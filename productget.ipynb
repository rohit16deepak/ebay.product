{
 "cells": [
  {
   "cell_type": "code",
   "execution_count": 39,
   "metadata": {},
   "outputs": [],
   "source": [
    "\n",
    "import re\n",
    "import requests\n",
    "from bs4 import BeautifulSoup\n",
    "headers = {\n",
    "    'authority': 'www.ebay.com',\n",
    "    'accept': 'text/html,application/xhtml+xml,application/xml;q=0.9,image/avif,image/webp,image/apng,*/*;q=0.8,application/signed-exchange;v=b3;q=0.7',\n",
    "    'accept-language': 'en-GB,en-US;q=0.9,en;q=0.8,hi;q=0.7,fr;q=0.6,gu;q=0.5,de;q=0.4',\n",
    "    # 'cookie': '__uzma=cdcaae65-e704-488f-836e-4924af5e3916; __uzmb=1707833382; __uzme=4833; ak_bmsc=27423E4D1990DC1F831B813F63468F09~000000000000000000000000000000~YAAQrP3UF1APdoGNAQAA51XNohZjgwwctxXHZoeYNtg4I0+YH1sg2Tp4kgJdJvAXKAK670SL0b4ZdU/2uoRcGgryGgrGSR94r8n4YnKI6/kqAx2vS6+wC6+QfKFeCJ1zfNFWxt6/MWz7Uvdqk+5HBzUU1VmyOfZLRdNK+u7bHO8+r/mQNTLoh28CF87/f3taI/637wLzK9r1ptTLiCWDuhcsMAsoWqZoB2+GTIfzY5Sv7W9d6EGw5k6UD8UlWGvHz2Snrw1POr2Sl5v20oyApaPRLp42/US2XHK7ll8Bdaehu5kXvZ8Jh932lgrOShmKMSsXb2je3DfRlW3UKALv1pORHQhiaghVPTzoOIKBTf/K2sFQTocmjiovQH5ql8VlRobzfXlyD7A=; __ssds=2; __ssuzjsr2=a9be0cd8e; __uzmaj2=39685c93-68ed-46c0-a2c5-f481d10b9209; __uzmbj2=1707833385; __uzmcj2=899131376608; __uzmdj2=1707833392; __gads=ID=c10271c72e5fd457:T=1707833391:RT=1707833391:S=ALNI_MbL4IqyArsHEZHhSrPwSKXY75-4og; __gpi=UID=00000d05b5810104:T=1707833391:RT=1707833391:S=ALNI_MZV4D976YW5lZT48Tdth-fyu1qzsg; __eoi=ID=ab05981d6175f292:T=1707833391:RT=1707833391:S=AA-AfjZllNwAEffwDlP32jbHt9zc; s=CgAD4ACBlzMnKYTJjZDU0YzgxOGQwYWFiMTIwNzk4ZTU4ZmZmY2Q2YjZkREBX; dp1=bu1p/QEBfX0BAX19AQA**698ddf51^pbf/%23e000e0000000000000000067acabd1^bl/IN698ddf51^; ns1=BAQAAAYxL36hOAAaAANgAU2esq9FjNjl8NjAxXjE3MDc4MzMzODIxODNeXjFeM3wyfDV8NHw3fDEwfDQyfDQzfDExXl5eNF4zXjEyXjEyXjJeMV4xXjBeMV4wXjFeNjQ0MjQ1OTA3NTepwFMK3OIC5aYiQREcARy99ggw; nonsession=BAQAAAYxL36hOAAaAADMABmesq9EyMjEwMTAAygAgaY3fUWEyY2Q1NGM4MThkMGFhYjEyMDc5OGU1OGZmZmNkNmI2AMsAAWXLf1k2iO8282d5hpiJKmQg3wXbqYCmMdA*; __deba=_lb8rXuFBXZx99fW7pJexpLD4vJmmIXl7Bbatsi36ZvF0sk0_ERSftL_T8cmhmQqXR8UW1J2_XMwSXzXGqPFGGcO4UEycciE9bdfKHtnQmJSJseECIDVKncy95ksbaVJYR0n00dLVGRTF9YTB031ZQ==; __uzmc=250851656954; __uzmd=1707833425; __uzmf=7f6000536fab93-57b9-49b8-bf9f-ff16f0b8627a170783338205443114-3b1e45450a26e29116; bm_sv=818AED64BD6085BCA6DA5FFF58366037~YAAQrP3UF3AUdoGNAQAA3v7NohZlfdmV2qyyT4/P+5ysWerOUAjseIghgAma47y1YE+xeoFwhP7eUgG2RTYI8QITVWH0tTG6j77yGlnORKtC5G2UxlrpuST+UEtLhXlgkUWAaT1tLvvERIcXaQUBGlPksC41sjKhHVj4KAdC8s8/7T2AIk6sYp/geMEjw0fe/BNL7jygAObUmw8eJzHTnmZBM5cC80Qgd9wdrzFqQ1T3C56SfWPhDJOs+Wkv2A==~1; __gsas=ID=2ed19b62c222750b:T=1707833427:RT=1707833427:S=ALNI_Mb6vHD90QDBiSx7dGmRBeccORfkzw; ebay=%5Ejs%3D1%5Esbf%3D%23000000%5Epsi%3DAzVURRGg*%5E; ds2=sotr/b8_5az10JNfz^',\n",
    "    'dnt': '1',\n",
    "    'referer': 'https://www.ebay.com/sch/i.html?_from=R40&_trksid=p4432023.m570.l1313&_nkw=mobile&_sacat=0',\n",
    "    'sec-ch-ua': '\"Not A(Brand\";v=\"99\", \"Google Chrome\";v=\"121\", \"Chromium\";v=\"121\"',\n",
    "    'sec-ch-ua-full-version': '\"121.0.6167.161\"',\n",
    "    'sec-ch-ua-mobile': '?0',\n",
    "    'sec-ch-ua-model': '\"\"',\n",
    "    'sec-ch-ua-platform': '\"Windows\"',\n",
    "    'sec-ch-ua-platform-version': '\"15.0.0\"',\n",
    "    'sec-fetch-dest': 'document',\n",
    "    'sec-fetch-mode': 'navigate',\n",
    "    'sec-fetch-site': 'same-origin',\n",
    "    'sec-fetch-user': '?1',\n",
    "    'upgrade-insecure-requests': '1',\n",
    "    'user-agent': 'Mozilla/5.0 (Windows NT 10.0; Win64; x64) AppleWebKit/537.36 (KHTML, like Gecko) Chrome/121.0.0.0 Safari/537.36',\n",
    "}\n",
    "\n",
    "params = {\n",
    "    '_from': 'R40',\n",
    "    '_nkw': 'mobile',\n",
    "    '_sacat': '0',\n",
    "    '_pgn': '2',\n",
    "}\n",
    "\n",
    "response = requests.get('https://www.ebay.com/sch/i.html', params=params, headers=headers)\n",
    "\n"
   ]
  },
  {
   "cell_type": "code",
   "execution_count": 3,
   "metadata": {},
   "outputs": [],
   "source": [
    "from bs4 import BeautifulSoup\n",
    "soup = BeautifulSoup(response.text, 'html.parser')\n",
    "with open('index.html', 'w', encoding=\"UTF\") as file:\n",
    "    file.write(soup.prettify())"
   ]
  },
  {
   "cell_type": "code",
   "execution_count": 4,
   "metadata": {},
   "outputs": [],
   "source": [
    "AllProduct = soup.find_all('li', class_='s-item s-item__pl-on-bottom')"
   ]
  },
  {
   "cell_type": "code",
   "execution_count": 8,
   "metadata": {},
   "outputs": [
    {
     "name": "stdout",
     "output_type": "stream",
     "text": [
      "60\n"
     ]
    }
   ],
   "source": []
  },
  {
   "cell_type": "code",
   "execution_count": 37,
   "metadata": {},
   "outputs": [],
   "source": [
    "for data in AllProduct:\n",
    "    if AllProduct.index(data) == 0:\n",
    "        continue\n",
    "    productName  =  data.find('div', class_='s-item__title').text\n",
    "    productSubtitle = data.find('div', class_='s-item__subtitle').text\n",
    "    try:\n",
    "        productRatingCount  = data.find('div', class_='x-star-rating').text\n",
    "    except :\n",
    "        productRatingCount = '0'\n",
    "    try:\n",
    "        ProductTotalRating = data.find('span', class_='s-item__reviews-count').text\n",
    "    except:\n",
    "        ProductTotalRating = '0'\n",
    "    ProductPrice = data.find('span', class_='s-item__price').text\n",
    "\n",
    "    ProductTotalRating = re.findall(r'^\\d+', ProductTotalRating)[0]\n",
    "    prouducts = {'productName': productName, 'productSubtitle': productSubtitle ,'ProductPrice': ProductPrice  , 'productRatingCount': productRatingCount, 'ProductTotalRating': ProductTotalRating}"
   ]
  },
  {
   "cell_type": "code",
   "execution_count": 29,
   "metadata": {},
   "outputs": [],
   "source": []
  },
  {
   "cell_type": "code",
   "execution_count": 38,
   "metadata": {},
   "outputs": [],
   "source": [
    "def getHtml(querry, page):\n",
    "    \n",
    "    headers = {\n",
    "        'authority': 'www.ebay.com',\n",
    "        'accept': 'text/html,application/xhtml+xml,application/xml;q=0.9,image/avif,image/webp,image/apng,*/*;q=0.8,application/signed-exchange;v=b3;q=0.7',\n",
    "        'accept-language': 'en-GB,en-US;q=0.9,en;q=0.8,hi;q=0.7,fr;q=0.6,gu;q=0.5,de;q=0.4',\n",
    "        # 'cookie': '__uzma=cdcaae65-e704-488f-836e-4924af5e3916; __uzmb=1707833382; __uzme=4833; ak_bmsc=27423E4D1990DC1F831B813F63468F09~000000000000000000000000000000~YAAQrP3UF1APdoGNAQAA51XNohZjgwwctxXHZoeYNtg4I0+YH1sg2Tp4kgJdJvAXKAK670SL0b4ZdU/2uoRcGgryGgrGSR94r8n4YnKI6/kqAx2vS6+wC6+QfKFeCJ1zfNFWxt6/MWz7Uvdqk+5HBzUU1VmyOfZLRdNK+u7bHO8+r/mQNTLoh28CF87/f3taI/637wLzK9r1ptTLiCWDuhcsMAsoWqZoB2+GTIfzY5Sv7W9d6EGw5k6UD8UlWGvHz2Snrw1POr2Sl5v20oyApaPRLp42/US2XHK7ll8Bdaehu5kXvZ8Jh932lgrOShmKMSsXb2je3DfRlW3UKALv1pORHQhiaghVPTzoOIKBTf/K2sFQTocmjiovQH5ql8VlRobzfXlyD7A=; __ssds=2; __ssuzjsr2=a9be0cd8e; __uzmaj2=39685c93-68ed-46c0-a2c5-f481d10b9209; __uzmbj2=1707833385; __uzmcj2=899131376608; __uzmdj2=1707833392; __gads=ID=c10271c72e5fd457:T=1707833391:RT=1707833391:S=ALNI_MbL4IqyArsHEZHhSrPwSKXY75-4og; __gpi=UID=00000d05b5810104:T=1707833391:RT=1707833391:S=ALNI_MZV4D976YW5lZT48Tdth-fyu1qzsg; __eoi=ID=ab05981d6175f292:T=1707833391:RT=1707833391:S=AA-AfjZllNwAEffwDlP32jbHt9zc; s=CgAD4ACBlzMnKYTJjZDU0YzgxOGQwYWFiMTIwNzk4ZTU4ZmZmY2Q2YjZkREBX; dp1=bu1p/QEBfX0BAX19AQA**698ddf51^pbf/%23e000e0000000000000000067acabd1^bl/IN698ddf51^; ns1=BAQAAAYxL36hOAAaAANgAU2esq9FjNjl8NjAxXjE3MDc4MzMzODIxODNeXjFeM3wyfDV8NHw3fDEwfDQyfDQzfDExXl5eNF4zXjEyXjEyXjJeMV4xXjBeMV4wXjFeNjQ0MjQ1OTA3NTepwFMK3OIC5aYiQREcARy99ggw; nonsession=BAQAAAYxL36hOAAaAADMABmesq9EyMjEwMTAAygAgaY3fUWEyY2Q1NGM4MThkMGFhYjEyMDc5OGU1OGZmZmNkNmI2AMsAAWXLf1k2iO8282d5hpiJKmQg3wXbqYCmMdA*; __deba=_lb8rXuFBXZx99fW7pJexpLD4vJmmIXl7Bbatsi36ZvF0sk0_ERSftL_T8cmhmQqXR8UW1J2_XMwSXzXGqPFGGcO4UEycciE9bdfKHtnQmJSJseECIDVKncy95ksbaVJYR0n00dLVGRTF9YTB031ZQ==; __uzmc=250851656954; __uzmd=1707833425; __uzmf=7f6000536fab93-57b9-49b8-bf9f-ff16f0b8627a170783338205443114-3b1e45450a26e29116; bm_sv=818AED64BD6085BCA6DA5FFF58366037~YAAQrP3UF3AUdoGNAQAA3v7NohZlfdmV2qyyT4/P+5ysWerOUAjseIghgAma47y1YE+xeoFwhP7eUgG2RTYI8QITVWH0tTG6j77yGlnORKtC5G2UxlrpuST+UEtLhXlgkUWAaT1tLvvERIcXaQUBGlPksC41sjKhHVj4KAdC8s8/7T2AIk6sYp/geMEjw0fe/BNL7jygAObUmw8eJzHTnmZBM5cC80Qgd9wdrzFqQ1T3C56SfWPhDJOs+Wkv2A==~1; __gsas=ID=2ed19b62c222750b:T=1707833427:RT=1707833427:S=ALNI_Mb6vHD90QDBiSx7dGmRBeccORfkzw; ebay=%5Ejs%3D1%5Esbf%3D%23000000%5Epsi%3DAzVURRGg*%5E; ds2=sotr/b8_5az10JNfz^',\n",
    "        'dnt': '1',\n",
    "        'referer': 'https://www.ebay.com/sch/i.html?_from=R40&_trksid=p4432023.m570.l1313&_nkw=mobile&_sacat=0',\n",
    "        'sec-ch-ua': '\"Not A(Brand\";v=\"99\", \"Google Chrome\";v=\"121\", \"Chromium\";v=\"121\"',\n",
    "        'sec-ch-ua-full-version': '\"121.0.6167.161\"',\n",
    "        'sec-ch-ua-mobile': '?0',\n",
    "        'sec-ch-ua-model': '\"\"',\n",
    "        'sec-ch-ua-platform': '\"Windows\"',\n",
    "        'sec-ch-ua-platform-version': '\"15.0.0\"',\n",
    "        'sec-fetch-dest': 'document',\n",
    "        'sec-fetch-mode': 'navigate',\n",
    "        'sec-fetch-site': 'same-origin',\n",
    "        'sec-fetch-user': '?1',\n",
    "        'upgrade-insecure-requests': '1',\n",
    "        'user-agent': 'Mozilla/5.0 (Windows NT 10.0; Win64; x64) AppleWebKit/537.36 (KHTML, like Gecko) Chrome/121.0.0.0 Safari/537.36',\n",
    "    }\n",
    "\n",
    "    params = {\n",
    "        '_from': 'R40',\n",
    "        '_nkw': querry,\n",
    "        '_sacat': '0',\n",
    "        '_pgn': page,\n",
    "    }\n",
    "\n",
    "    response = requests.get('https://www.ebay.com/sch/i.html', params=params, headers=headers)\n",
    "    return response.text"
   ]
  },
  {
   "cell_type": "code",
   "execution_count": 44,
   "metadata": {},
   "outputs": [],
   "source": [
    "def getpageData(querry,page):\n",
    "    ItemList = []\n",
    "    response = getHtml(querry, page)\n",
    "    soup = BeautifulSoup(response, 'html.parser')\n",
    "    AllProduct = soup.find_all('li', class_='s-item s-item__pl-on-bottom')\n",
    "    for data in AllProduct:\n",
    "        if AllProduct.index(data) == 0:\n",
    "            continue\n",
    "        productName  =  data.find('div', class_='s-item__title').text\n",
    "        productSubtitle = data.find('div', class_='s-item__subtitle').text\n",
    "        try:\n",
    "            productRatingCount  = data.find('div', class_='x-star-rating').text\n",
    "        except :\n",
    "            productRatingCount = '0'\n",
    "        try:\n",
    "            ProductTotalRating = data.find('span', class_='s-item__reviews-count').text\n",
    "        except:\n",
    "            ProductTotalRating = '0'\n",
    "        ProductPrice = data.find('span', class_='s-item__price').text\n",
    "\n",
    "        ProductTotalRating = re.findall(r'^\\d+', ProductTotalRating)[0]\n",
    "        prouducts = {'productName': productName, 'productSubtitle': productSubtitle ,'ProductPrice': ProductPrice  , 'productRatingCount': productRatingCount, 'ProductTotalRating': ProductTotalRating}\n",
    "        ItemList.append(prouducts)\n",
    "    return ItemList"
   ]
  },
  {
   "cell_type": "code",
   "execution_count": 45,
   "metadata": {},
   "outputs": [
    {
     "name": "stdout",
     "output_type": "stream",
     "text": [
      "1\n",
      "2\n",
      "3\n",
      "4\n",
      "5\n",
      "6\n",
      "7\n",
      "8\n",
      "9\n"
     ]
    }
   ],
   "source": [
    "totalPages =  10\n",
    "querry = \"mobile\"\n",
    "\n",
    "TotalData = []\n",
    "page =1\n",
    "while page < totalPages :\n",
    "    data = getpageData(querry, page)\n",
    "    print(page)\n",
    "    TotalData.extend(data)\n",
    "    page+=1    "
   ]
  },
  {
   "cell_type": "code",
   "execution_count": 49,
   "metadata": {},
   "outputs": [],
   "source": [
    "import pandas as pd"
   ]
  },
  {
   "cell_type": "code",
   "execution_count": 50,
   "metadata": {},
   "outputs": [],
   "source": [
    "datatable  =  pd.DataFrame(TotalData)"
   ]
  },
  {
   "cell_type": "code",
   "execution_count": 52,
   "metadata": {},
   "outputs": [],
   "source": [
    "datatable.to_excel(\"productList.xlsx\", index=False)"
   ]
  },
  {
   "cell_type": "code",
   "execution_count": null,
   "metadata": {},
   "outputs": [],
   "source": []
  }
 ],
 "metadata": {
  "kernelspec": {
   "display_name": "Python 3",
   "language": "python",
   "name": "python3"
  },
  "language_info": {
   "codemirror_mode": {
    "name": "ipython",
    "version": 3
   },
   "file_extension": ".py",
   "mimetype": "text/x-python",
   "name": "python",
   "nbconvert_exporter": "python",
   "pygments_lexer": "ipython3",
   "version": "3.11.5"
  }
 },
 "nbformat": 4,
 "nbformat_minor": 2
}
